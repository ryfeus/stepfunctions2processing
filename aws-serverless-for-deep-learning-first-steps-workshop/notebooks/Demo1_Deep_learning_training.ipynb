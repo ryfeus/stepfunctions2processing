{
 "cells": [
  {
   "cell_type": "markdown",
   "metadata": {},
   "source": [
    "# Deep learning training pipeline\n",
    "# Deploying AWS Step Functions + AWS Batch + AWS Lambda"
   ]
  },
  {
   "cell_type": "markdown",
   "metadata": {},
   "source": [
    "## Installing dependencies\n",
    "Here we install relevant dependencies to run serverless framework."
   ]
  },
  {
   "cell_type": "code",
   "execution_count": null,
   "metadata": {},
   "outputs": [],
   "source": [
    "!pip install awscli --upgrade --user\n",
    "!npm install -g serverless@1.77.0"
   ]
  },
  {
   "cell_type": "markdown",
   "metadata": {},
   "source": [
    "## Setting AWS environmental variables\n",
    "Here we set up AWS environmental variables so that we will be able to deploy to our AWS account. We will need access key id, secret access key and account id. You will need to replace AWS_ACCESS_KEY_ID, AWS_SECRET_ACCESS_KEY, AWS_ACCOUNT_ID with your values. Please use test account and temporary credentials or deactivate credentials after usage."
   ]
  },
  {
   "cell_type": "code",
   "execution_count": null,
   "metadata": {},
   "outputs": [],
   "source": [
    "%env AWS_ACCESS_KEY_ID=<AWS_ACCESS_KEY_ID>\n",
    "%env AWS_SECRET_ACCESS_KEY=<AWS_SECRET_ACCESS_KEY>\n",
    "%env AWS_ACCOUNT_ID=<AWS_ACCOUNT_ID>\n",
    "%env AWS_DEFAULT_REGION=us-east-1"
   ]
  },
  {
   "cell_type": "markdown",
   "metadata": {},
   "source": [
    "## Creating role for AWS Batch"
   ]
  },
  {
   "cell_type": "code",
   "execution_count": null,
   "metadata": {},
   "outputs": [],
   "source": [
    "!aws iam create-role --role-name AWSBatchServiceRole --assume-role-policy-document file://assume-batch-policy.json\n",
    "!aws iam attach-role-policy --role-name AWSBatchServiceRole --policy-arn arn:aws:iam::aws:policy/service-role/AWSBatchServiceRole"
   ]
  },
  {
   "cell_type": "markdown",
   "metadata": {},
   "source": [
    "# Deploying deep learning pipeline to AWS"
   ]
  },
  {
   "cell_type": "markdown",
   "metadata": {},
   "source": [
    "## Deploying CPU pipeline to AWS\n",
    "Deploying stack with AWS Batch (CPU) + AWS Step Functions + AWS Lambda. At the end of the deployment it will produce endpoint which we can call to trigger AWS Step Functions. AWS Batch will use publicly available CPU image [ryfeus/serverless-for-deep-learning:cpu](https://hub.docker.com/repository/docker/ryfeus/serverless-for-deep-learning/general)"
   ]
  },
  {
   "cell_type": "code",
   "execution_count": null,
   "metadata": {},
   "outputs": [],
   "source": [
    "%env IMAGE_NAME=ryfeus/serverless-for-deep-learning:cpu\n",
    "%env S3_BUCKET=serverless-for-deep-learning\n",
    "%env INSTANCE_TYPE=EC2\n",
    "!cd deep-learning-training-cpu;npm install\n",
    "!cd deep-learning-training-cpu;serverless deploy"
   ]
  },
  {
   "cell_type": "markdown",
   "metadata": {},
   "source": [
    "## Deploying GPU pipeline to AWS\n",
    "Deploying stack with AWS Batch (GPU) + AWS Step Functions + AWS Lambda. At the end of the deployment it will produce endpoint which we can call to trigger AWS Step Functions. AWS Batch will use publicly available GPU image [ryfeus/serverless-for-deep-learning:latest](https://hub.docker.com/repository/docker/ryfeus/serverless-for-deep-learning/general)"
   ]
  },
  {
   "cell_type": "code",
   "execution_count": null,
   "metadata": {},
   "outputs": [],
   "source": [
    "%env IMAGE_NAME=ryfeus/serverless-for-deep-learning:latest\n",
    "%env S3_BUCKET=serverless-for-deep-learning\n",
    "%env INSTANCE_TYPE=EC2\n",
    "!cd deep-learning-training-gpu;npm install\n",
    "!cd deep-learning-training-gpu;serverless deploy"
   ]
  },
  {
   "cell_type": "markdown",
   "metadata": {},
   "source": [
    "## Calling endpoint fron previous cell\n",
    "Here we can call endpoint from previous cell which will trigger Step Functions with AWS Lambda and AWS Batch."
   ]
  },
  {
   "cell_type": "code",
   "execution_count": null,
   "metadata": {},
   "outputs": [],
   "source": [
    "%env ENDPOINT_URL=\n",
    "!curl $ENDPOINT_URL"
   ]
  },
  {
   "cell_type": "markdown",
   "metadata": {},
   "source": [
    "## Listing current executions and their state\n",
    "Here we list all current Step Function executions related to deployed AWS Step Functions. We will be able to see execution which was created from the request to the endpoint."
   ]
  },
  {
   "cell_type": "code",
   "execution_count": null,
   "metadata": {},
   "outputs": [],
   "source": [
    "%env STATE_MACHINE_NAME=DeepLearningTrainingCPU-StepFunction\n",
    "!aws stepfunctions list-executions --state-machine-arn arn:aws:states:$AWS_DEFAULT_REGION:$AWS_ACCOUNT_ID:stateMachine:$STATE_MACHINE_NAME --query 'executions[*].[name,status]' --output text "
   ]
  },
  {
   "cell_type": "markdown",
   "metadata": {},
   "source": [
    "## Check specific execution state\n",
    "Based on the results from the previous cell we can choose execution id and get its current graph state. You will need to replace <EXECUTION_ID> with execution id for which you would want to get the state."
   ]
  },
  {
   "cell_type": "code",
   "execution_count": null,
   "metadata": {},
   "outputs": [],
   "source": [
    "%env STATE_MACHINE_NAME=DeepLearningTrainingCPU-StepFunction\n",
    "%env EXECUTION_ID=\n",
    "!aws stepfunctions describe-state-machine-for-execution --execution-arn arn:aws:states:$AWS_DEFAULT_REGION:$AWS_ACCOUNT_ID:execution:$STATE_MACHINE_NAME:$EXECUTION_ID --output text --query 'definition'"
   ]
  },
  {
   "cell_type": "markdown",
   "metadata": {},
   "source": [
    "## Removing CPU or GPU application\n",
    "Finally we can run the following command to remove infrastructure which we've just created."
   ]
  },
  {
   "cell_type": "code",
   "execution_count": null,
   "metadata": {},
   "outputs": [],
   "source": [
    "!cd deep-learning-training-cpu;serverless remove"
   ]
  },
  {
   "cell_type": "code",
   "execution_count": null,
   "metadata": {},
   "outputs": [],
   "source": [
    "!cd deep-learning-training-gpu;serverless remove"
   ]
  }
 ],
 "metadata": {
  "kernelspec": {
   "display_name": "Python 3",
   "language": "python",
   "name": "python3"
  },
  "language_info": {
   "codemirror_mode": {
    "name": "ipython",
    "version": 3
   },
   "file_extension": ".py",
   "mimetype": "text/x-python",
   "name": "python",
   "nbconvert_exporter": "python",
   "pygments_lexer": "ipython3",
   "version": "3.7.7"
  }
 },
 "nbformat": 4,
 "nbformat_minor": 4
}
